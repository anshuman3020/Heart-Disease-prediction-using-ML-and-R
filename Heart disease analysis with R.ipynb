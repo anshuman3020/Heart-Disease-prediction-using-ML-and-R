{
 "cells": [
  {
   "cell_type": "markdown",
   "id": "21d419e9",
   "metadata": {},
   "source": [
    "### Loading Libraries"
   ]
  },
  {
   "cell_type": "code",
   "execution_count": 1,
   "id": "dbd5775d",
   "metadata": {},
   "outputs": [
    {
     "name": "stderr",
     "output_type": "stream",
     "text": [
      "Registered S3 methods overwritten by 'ggplot2':\n",
      "  method         from \n",
      "  [.quosures     rlang\n",
      "  c.quosures     rlang\n",
      "  print.quosures rlang\n",
      "Registered S3 method overwritten by 'rvest':\n",
      "  method            from\n",
      "  read_xml.response xml2\n",
      "-- Attaching packages --------------------------------------- tidyverse 1.2.1 --\n",
      "v ggplot2 3.1.1       v purrr   0.3.2  \n",
      "v tibble  2.1.1       v dplyr   0.8.0.1\n",
      "v tidyr   0.8.3       v stringr 1.4.0  \n",
      "v readr   1.3.1       v forcats 0.4.0  \n",
      "-- Conflicts ------------------------------------------ tidyverse_conflicts() --\n",
      "x dplyr::filter() masks stats::filter()\n",
      "x dplyr::lag()    masks stats::lag()\n"
     ]
    }
   ],
   "source": [
    "library(tidyverse)"
   ]
  },
  {
   "cell_type": "code",
   "execution_count": 2,
   "id": "c6c9092e",
   "metadata": {},
   "outputs": [
    {
     "data": {
      "text/html": [
       "<table>\n",
       "<thead><tr><th scope=col>ï..age</th><th scope=col>sex</th><th scope=col>cp</th><th scope=col>trestbps</th><th scope=col>chol</th><th scope=col>fbs</th><th scope=col>restecg</th><th scope=col>thalach</th><th scope=col>exang</th><th scope=col>oldpeak</th><th scope=col>slope</th><th scope=col>ca</th><th scope=col>thal</th><th scope=col>target</th></tr></thead>\n",
       "<tbody>\n",
       "\t<tr><td>63 </td><td>1  </td><td>3  </td><td>145</td><td>233</td><td>1  </td><td>0  </td><td>150</td><td>0  </td><td>2.3</td><td>0  </td><td>0  </td><td>1  </td><td>1  </td></tr>\n",
       "\t<tr><td>37 </td><td>1  </td><td>2  </td><td>130</td><td>250</td><td>0  </td><td>1  </td><td>187</td><td>0  </td><td>3.5</td><td>0  </td><td>0  </td><td>2  </td><td>1  </td></tr>\n",
       "\t<tr><td>41 </td><td>0  </td><td>1  </td><td>130</td><td>204</td><td>0  </td><td>0  </td><td>172</td><td>0  </td><td>1.4</td><td>2  </td><td>0  </td><td>2  </td><td>1  </td></tr>\n",
       "\t<tr><td>56 </td><td>1  </td><td>1  </td><td>120</td><td>236</td><td>0  </td><td>1  </td><td>178</td><td>0  </td><td>0.8</td><td>2  </td><td>0  </td><td>2  </td><td>1  </td></tr>\n",
       "\t<tr><td>57 </td><td>0  </td><td>0  </td><td>120</td><td>354</td><td>0  </td><td>1  </td><td>163</td><td>1  </td><td>0.6</td><td>2  </td><td>0  </td><td>2  </td><td>1  </td></tr>\n",
       "\t<tr><td>57 </td><td>1  </td><td>0  </td><td>140</td><td>192</td><td>0  </td><td>1  </td><td>148</td><td>0  </td><td>0.4</td><td>1  </td><td>0  </td><td>1  </td><td>1  </td></tr>\n",
       "</tbody>\n",
       "</table>\n"
      ],
      "text/latex": [
       "\\begin{tabular}{r|llllllllllllll}\n",
       " ï..age & sex & cp & trestbps & chol & fbs & restecg & thalach & exang & oldpeak & slope & ca & thal & target\\\\\n",
       "\\hline\n",
       "\t 63  & 1   & 3   & 145 & 233 & 1   & 0   & 150 & 0   & 2.3 & 0   & 0   & 1   & 1  \\\\\n",
       "\t 37  & 1   & 2   & 130 & 250 & 0   & 1   & 187 & 0   & 3.5 & 0   & 0   & 2   & 1  \\\\\n",
       "\t 41  & 0   & 1   & 130 & 204 & 0   & 0   & 172 & 0   & 1.4 & 2   & 0   & 2   & 1  \\\\\n",
       "\t 56  & 1   & 1   & 120 & 236 & 0   & 1   & 178 & 0   & 0.8 & 2   & 0   & 2   & 1  \\\\\n",
       "\t 57  & 0   & 0   & 120 & 354 & 0   & 1   & 163 & 1   & 0.6 & 2   & 0   & 2   & 1  \\\\\n",
       "\t 57  & 1   & 0   & 140 & 192 & 0   & 1   & 148 & 0   & 0.4 & 1   & 0   & 1   & 1  \\\\\n",
       "\\end{tabular}\n"
      ],
      "text/markdown": [
       "\n",
       "| ï..age | sex | cp | trestbps | chol | fbs | restecg | thalach | exang | oldpeak | slope | ca | thal | target |\n",
       "|---|---|---|---|---|---|---|---|---|---|---|---|---|---|\n",
       "| 63  | 1   | 3   | 145 | 233 | 1   | 0   | 150 | 0   | 2.3 | 0   | 0   | 1   | 1   |\n",
       "| 37  | 1   | 2   | 130 | 250 | 0   | 1   | 187 | 0   | 3.5 | 0   | 0   | 2   | 1   |\n",
       "| 41  | 0   | 1   | 130 | 204 | 0   | 0   | 172 | 0   | 1.4 | 2   | 0   | 2   | 1   |\n",
       "| 56  | 1   | 1   | 120 | 236 | 0   | 1   | 178 | 0   | 0.8 | 2   | 0   | 2   | 1   |\n",
       "| 57  | 0   | 0   | 120 | 354 | 0   | 1   | 163 | 1   | 0.6 | 2   | 0   | 2   | 1   |\n",
       "| 57  | 1   | 0   | 140 | 192 | 0   | 1   | 148 | 0   | 0.4 | 1   | 0   | 1   | 1   |\n",
       "\n"
      ],
      "text/plain": [
       "  ï..age sex cp trestbps chol fbs restecg thalach exang oldpeak slope ca thal\n",
       "1 63     1   3  145      233  1   0       150     0     2.3     0     0  1   \n",
       "2 37     1   2  130      250  0   1       187     0     3.5     0     0  2   \n",
       "3 41     0   1  130      204  0   0       172     0     1.4     2     0  2   \n",
       "4 56     1   1  120      236  0   1       178     0     0.8     2     0  2   \n",
       "5 57     0   0  120      354  0   1       163     1     0.6     2     0  2   \n",
       "6 57     1   0  140      192  0   1       148     0     0.4     1     0  1   \n",
       "  target\n",
       "1 1     \n",
       "2 1     \n",
       "3 1     \n",
       "4 1     \n",
       "5 1     \n",
       "6 1     "
      ]
     },
     "metadata": {},
     "output_type": "display_data"
    }
   ],
   "source": [
    "data <- read.csv(\"heart.csv\")\n",
    "head(data)"
   ]
  },
  {
   "cell_type": "code",
   "execution_count": 3,
   "id": "e167388e",
   "metadata": {},
   "outputs": [
    {
     "name": "stdout",
     "output_type": "stream",
     "text": [
      "Observations: 303\n",
      "Variables: 14\n",
      "$ ï..age   <int> 63, 37, 41, 56, 57, 57, 56, 44, 52, 57, 54, 48, 49, 64, 58...\n",
      "$ sex      <int> 1, 1, 0, 1, 0, 1, 0, 1, 1, 1, 1, 0, 1, 1, 0, 0, 0, 0, 1, 0...\n",
      "$ cp       <int> 3, 2, 1, 1, 0, 0, 1, 1, 2, 2, 0, 2, 1, 3, 3, 2, 2, 3, 0, 3...\n",
      "$ trestbps <int> 145, 130, 130, 120, 120, 140, 140, 120, 172, 150, 140, 130...\n",
      "$ chol     <int> 233, 250, 204, 236, 354, 192, 294, 263, 199, 168, 239, 275...\n",
      "$ fbs      <int> 1, 0, 0, 0, 0, 0, 0, 0, 1, 0, 0, 0, 0, 0, 1, 0, 0, 0, 0, 0...\n",
      "$ restecg  <int> 0, 1, 0, 1, 1, 1, 0, 1, 1, 1, 1, 1, 1, 0, 0, 1, 1, 1, 1, 1...\n",
      "$ thalach  <int> 150, 187, 172, 178, 163, 148, 153, 173, 162, 174, 160, 139...\n",
      "$ exang    <int> 0, 0, 0, 0, 1, 0, 0, 0, 0, 0, 0, 0, 0, 1, 0, 0, 0, 0, 0, 0...\n",
      "$ oldpeak  <dbl> 2.3, 3.5, 1.4, 0.8, 0.6, 0.4, 1.3, 0.0, 0.5, 1.6, 1.2, 0.2...\n",
      "$ slope    <int> 0, 0, 2, 2, 2, 1, 1, 2, 2, 2, 2, 2, 2, 1, 2, 1, 2, 0, 2, 2...\n",
      "$ ca       <int> 0, 0, 0, 0, 0, 0, 0, 0, 0, 0, 0, 0, 0, 0, 0, 0, 0, 0, 0, 2...\n",
      "$ thal     <int> 1, 2, 2, 2, 2, 1, 2, 3, 3, 2, 2, 2, 2, 2, 2, 2, 2, 2, 2, 2...\n",
      "$ target   <int> 1, 1, 1, 1, 1, 1, 1, 1, 1, 1, 1, 1, 1, 1, 1, 1, 1, 1, 1, 1...\n"
     ]
    }
   ],
   "source": [
    "glimpse(data)"
   ]
  },
  {
   "cell_type": "code",
   "execution_count": 4,
   "id": "33bb937a",
   "metadata": {},
   "outputs": [
    {
     "data": {
      "text/html": [
       "14"
      ],
      "text/latex": [
       "14"
      ],
      "text/markdown": [
       "14"
      ],
      "text/plain": [
       "[1] 14"
      ]
     },
     "metadata": {},
     "output_type": "display_data"
    }
   ],
   "source": [
    "ncol(data)"
   ]
  },
  {
   "cell_type": "code",
   "execution_count": 5,
   "id": "4ff6fd0f",
   "metadata": {},
   "outputs": [
    {
     "data": {
      "text/html": [
       "303"
      ],
      "text/latex": [
       "303"
      ],
      "text/markdown": [
       "303"
      ],
      "text/plain": [
       "[1] 303"
      ]
     },
     "metadata": {},
     "output_type": "display_data"
    }
   ],
   "source": [
    "nrow(data)"
   ]
  },
  {
   "cell_type": "code",
   "execution_count": 6,
   "id": "d501a474",
   "metadata": {},
   "outputs": [
    {
     "data": {
      "text/html": [
       "<ol class=list-inline>\n",
       "\t<li>'ï..age'</li>\n",
       "\t<li>'sex'</li>\n",
       "\t<li>'cp'</li>\n",
       "\t<li>'trestbps'</li>\n",
       "\t<li>'chol'</li>\n",
       "\t<li>'fbs'</li>\n",
       "\t<li>'restecg'</li>\n",
       "\t<li>'thalach'</li>\n",
       "\t<li>'exang'</li>\n",
       "\t<li>'oldpeak'</li>\n",
       "\t<li>'slope'</li>\n",
       "\t<li>'ca'</li>\n",
       "\t<li>'thal'</li>\n",
       "\t<li>'target'</li>\n",
       "</ol>\n"
      ],
      "text/latex": [
       "\\begin{enumerate*}\n",
       "\\item 'ï..age'\n",
       "\\item 'sex'\n",
       "\\item 'cp'\n",
       "\\item 'trestbps'\n",
       "\\item 'chol'\n",
       "\\item 'fbs'\n",
       "\\item 'restecg'\n",
       "\\item 'thalach'\n",
       "\\item 'exang'\n",
       "\\item 'oldpeak'\n",
       "\\item 'slope'\n",
       "\\item 'ca'\n",
       "\\item 'thal'\n",
       "\\item 'target'\n",
       "\\end{enumerate*}\n"
      ],
      "text/markdown": [
       "1. 'ï..age'\n",
       "2. 'sex'\n",
       "3. 'cp'\n",
       "4. 'trestbps'\n",
       "5. 'chol'\n",
       "6. 'fbs'\n",
       "7. 'restecg'\n",
       "8. 'thalach'\n",
       "9. 'exang'\n",
       "10. 'oldpeak'\n",
       "11. 'slope'\n",
       "12. 'ca'\n",
       "13. 'thal'\n",
       "14. 'target'\n",
       "\n",
       "\n"
      ],
      "text/plain": [
       " [1] \"ï..age\"   \"sex\"      \"cp\"       \"trestbps\" \"chol\"     \"fbs\"     \n",
       " [7] \"restecg\"  \"thalach\"  \"exang\"    \"oldpeak\"  \"slope\"    \"ca\"      \n",
       "[13] \"thal\"     \"target\"  "
      ]
     },
     "metadata": {},
     "output_type": "display_data"
    }
   ],
   "source": [
    "colnames(data)"
   ]
  },
  {
   "cell_type": "code",
   "execution_count": 8,
   "id": "551edcd8",
   "metadata": {},
   "outputs": [],
   "source": [
    "data2 <- data %>%\n",
    "  mutate(sex = if_else(sex == 1, \"MALE\", \"FEMALE\"),\n",
    "         fbs = if_else(fbs == 1, \">120\", \"<=120\"),\n",
    "         exang = if_else(exang == 1, \"YES\" ,\"NO\"),\n",
    "         cp = if_else(cp == 1, \"ATYPICAL ANGINA\",\n",
    "                      if_else(cp == 2, \"NON-ANGINAL PAIN\", \"ASYMPTOMATIC\")),\n",
    "         restecg = if_else(restecg == 0, \"NORMAL\",\n",
    "                           if_else(restecg == 1, \"ABNORMALITY\", \"PROBABLE OR DEFINITE\")),\n",
    "         slope = as.factor(slope),\n",
    "         ca = as.factor(ca),\n",
    "         thal = as.factor(thal),\n",
    "         target = if_else(target == 1, \"YES\", \"NO\")\n",
    "         ) %>% \n",
    "  mutate_if(is.character, as.factor) %>% \n",
    "  dplyr::select(target, sex, fbs, exang, cp, restecg, slope, ca, thal, everything())"
   ]
  },
  {
   "cell_type": "code",
   "execution_count": 10,
   "id": "6144c0b3",
   "metadata": {},
   "outputs": [
    {
     "data": {
      "image/png": "[encoded data removed]",
      "text/plain": [
       "plot without title"
      ]
     },
     "metadata": {},
     "output_type": "display_data"
    }
   ],
   "source": [
    "ggplot(data2, aes(x=data2$target, fill=data2$target))+\n",
    "   geom_bar()+\n",
    "   xlab(\"Heart Disease\")+\n",
    "   ylab(\"count\")+\n",
    "   ggtitle(\"Presence & Absence of Heart Disease\")+\n",
    "   scale_fill_discrete(name= 'Heart Disease', labels =c(\"Absence\",\"Presence\"))"
   ]
  },
  {
   "cell_type": "code",
   "execution_count": 11,
   "id": "d48930b6",
   "metadata": {},
   "outputs": [
    {
     "data": {
      "text/plain": [
       "\n",
       "       NO       YES \n",
       "0.4554455 0.5445545 "
      ]
     },
     "metadata": {},
     "output_type": "display_data"
    }
   ],
   "source": [
    "prop.table(table(data2$target))"
   ]
  },
  {
   "cell_type": "code",
   "execution_count": 13,
   "id": "cff436ef",
   "metadata": {},
   "outputs": [
    {
     "data": {
      "image/png": "[encoded data removed]",
      "text/plain": [
       "plot without title"
      ]
     },
     "metadata": {},
     "output_type": "display_data"
    }
   ],
   "source": [
    "#counting the frequency of the values of age\n",
    "\n",
    "data2 %>%\n",
    "    group_by(ï..age) %>%\n",
    "    count() %>%\n",
    "    filter(n>10) %>%\n",
    "    ggplot()+\n",
    "    geom_col(aes(ï..age, n), fill = 'green')+\n",
    "    ggtitle(\"Age Analysis\")+\n",
    "    xlab(\"Age\")+\n",
    "    ylab(\"Age Count\")"
   ]
  },
  {
   "cell_type": "code",
   "execution_count": 14,
   "id": "5cd7540e",
   "metadata": {},
   "outputs": [
    {
     "data": {
      "image/png": "[encoded data removed]",
      "text/plain": [
       "plot without title"
      ]
     },
     "metadata": {},
     "output_type": "display_data"
    }
   ],
   "source": [
    "# compare blood pressure across the chest pain\n",
    "\n",
    "data2 %>%\n",
    "    ggplot(aes(x=sex, y=trestbps))+\n",
    "    geom_boxplot(fill = 'purple')+\n",
    "    xlab('sex')+\n",
    "    ylab('BP')+\n",
    "    facet_grid(~cp)"
   ]
  },
  {
   "cell_type": "code",
   "execution_count": 16,
   "id": "341d1d82",
   "metadata": {},
   "outputs": [
    {
     "data": {
      "image/png": "[encoded data removed]",
      "text/plain": [
       "plot without title"
      ]
     },
     "metadata": {},
     "output_type": "display_data"
    }
   ],
   "source": [
    "data2 %>%\n",
    "    ggplot(aes(x=sex, y=chol))+\n",
    "    geom_boxplot(fill = 'orange')+\n",
    "    xlab('sex')+\n",
    "    ylab('Cholestrol')+\n",
    "    facet_grid(~cp)"
   ]
  },
  {
   "cell_type": "code",
   "execution_count": 17,
   "id": "930d4cf5",
   "metadata": {},
   "outputs": [
    {
     "name": "stdout",
     "output_type": "stream",
     "text": [
      "\n",
      "  There is a binary version available but the source version is later:\n",
      "         binary source needs_compilation\n",
      "corrplot   0.88   0.92             FALSE\n",
      "\n"
     ]
    },
    {
     "name": "stderr",
     "output_type": "stream",
     "text": [
      "installing the source package 'corrplot'\n",
      "\n",
      "also installing the dependencies 'isoband', 'rlang'\n",
      "\n"
     ]
    },
    {
     "name": "stdout",
     "output_type": "stream",
     "text": [
      "\n",
      "  There are binary versions available but the source versions are later:\n",
      "        binary source needs_compilation\n",
      "isoband  0.2.4  0.2.5              TRUE\n",
      "rlang   0.4.11 0.4.12              TRUE\n",
      "ggplot2  3.3.3  3.3.5             FALSE\n",
      "\n",
      "  Binaries will be installed\n",
      "package 'isoband' successfully unpacked and MD5 sums checked\n",
      "package 'rlang' successfully unpacked and MD5 sums checked\n"
     ]
    },
    {
     "name": "stderr",
     "output_type": "stream",
     "text": [
      "Warning message:\n",
      "\"cannot remove prior installation of package 'rlang'\"Warning message in file.copy(savedcopy, lib, recursive = TRUE):\n",
      "\"problem copying D:\\Anaconda_Folder\\envs\\r\\Lib\\R\\library\\00LOCK\\rlang\\libs\\x64\\rlang.dll to D:\\Anaconda_Folder\\envs\\r\\Lib\\R\\library\\rlang\\libs\\x64\\rlang.dll: Permission denied\"Warning message:\n",
      "\"restored 'rlang'\""
     ]
    },
    {
     "name": "stdout",
     "output_type": "stream",
     "text": [
      "\n",
      "The downloaded binary packages are in\n",
      "\tC:\\Users\\BAKASUR\\AppData\\Local\\Temp\\Rtmp0SunQ9\\downloaded_packages\n"
     ]
    },
    {
     "name": "stderr",
     "output_type": "stream",
     "text": [
      "installing the source package 'ggplot2'\n",
      "\n",
      "Warning message in install.packages(\"ggplot2\"):\n",
      "\"installation of package 'ggplot2' had non-zero exit status\""
     ]
    }
   ],
   "source": [
    "# Correlation\n",
    "\n",
    "install.packages(\"corrplot\")\n",
    "install.packages(\"ggplot2\")"
   ]
  },
  {
   "cell_type": "code",
   "execution_count": 18,
   "id": "34945697",
   "metadata": {},
   "outputs": [
    {
     "name": "stderr",
     "output_type": "stream",
     "text": [
      "corrplot 0.92 loaded\n"
     ]
    }
   ],
   "source": [
    "library(corrplot)\n",
    "library(ggplot2)"
   ]
  },
  {
   "cell_type": "code",
   "execution_count": 21,
   "id": "55929429",
   "metadata": {},
   "outputs": [
    {
     "data": {
      "text/html": [
       "<table>\n",
       "<thead><tr><th></th><th scope=col>ï..age</th><th scope=col>trestbps</th><th scope=col>chol</th><th scope=col>thalach</th><th scope=col>oldpeak</th></tr></thead>\n",
       "<tbody>\n",
       "\t<tr><th scope=row>ï..age</th><td> 1.0000000  </td><td> 0.27935091 </td><td> 0.213677957</td><td>-0.398521938</td><td> 0.21001257 </td></tr>\n",
       "\t<tr><th scope=row>trestbps</th><td> 0.2793509  </td><td> 1.00000000 </td><td> 0.123174207</td><td>-0.046697728</td><td> 0.19321647 </td></tr>\n",
       "\t<tr><th scope=row>chol</th><td> 0.2136780  </td><td> 0.12317421 </td><td> 1.000000000</td><td>-0.009939839</td><td> 0.05395192 </td></tr>\n",
       "\t<tr><th scope=row>thalach</th><td>-0.3985219  </td><td>-0.04669773 </td><td>-0.009939839</td><td> 1.000000000</td><td>-0.34418695 </td></tr>\n",
       "\t<tr><th scope=row>oldpeak</th><td> 0.2100126  </td><td> 0.19321647 </td><td> 0.053951920</td><td>-0.344186948</td><td> 1.00000000 </td></tr>\n",
       "</tbody>\n",
       "</table>\n"
      ],
      "text/latex": [
       "\\begin{tabular}{r|lllll}\n",
       "  & ï..age & trestbps & chol & thalach & oldpeak\\\\\n",
       "\\hline\n",
       "\tï..age &  1.0000000   &  0.27935091  &  0.213677957 & -0.398521938 &  0.21001257 \\\\\n",
       "\ttrestbps &  0.2793509   &  1.00000000  &  0.123174207 & -0.046697728 &  0.19321647 \\\\\n",
       "\tchol &  0.2136780   &  0.12317421  &  1.000000000 & -0.009939839 &  0.05395192 \\\\\n",
       "\tthalach & -0.3985219   & -0.04669773  & -0.009939839 &  1.000000000 & -0.34418695 \\\\\n",
       "\toldpeak &  0.2100126   &  0.19321647  &  0.053951920 & -0.344186948 &  1.00000000 \\\\\n",
       "\\end{tabular}\n"
      ],
      "text/markdown": [
       "\n",
       "| <!--/--> | ï..age | trestbps | chol | thalach | oldpeak |\n",
       "|---|---|---|---|---|---|\n",
       "| ï..age |  1.0000000   |  0.27935091  |  0.213677957 | -0.398521938 |  0.21001257  |\n",
       "| trestbps |  0.2793509   |  1.00000000  |  0.123174207 | -0.046697728 |  0.19321647  |\n",
       "| chol |  0.2136780   |  0.12317421  |  1.000000000 | -0.009939839 |  0.05395192  |\n",
       "| thalach | -0.3985219   | -0.04669773  | -0.009939839 |  1.000000000 | -0.34418695  |\n",
       "| oldpeak |  0.2100126   |  0.19321647  |  0.053951920 | -0.344186948 |  1.00000000  |\n",
       "\n"
      ],
      "text/plain": [
       "         ï..age     trestbps    chol         thalach      oldpeak    \n",
       "ï..age    1.0000000  0.27935091  0.213677957 -0.398521938  0.21001257\n",
       "trestbps  0.2793509  1.00000000  0.123174207 -0.046697728  0.19321647\n",
       "chol      0.2136780  0.12317421  1.000000000 -0.009939839  0.05395192\n",
       "thalach  -0.3985219 -0.04669773 -0.009939839  1.000000000 -0.34418695\n",
       "oldpeak   0.2100126  0.19321647  0.053951920 -0.344186948  1.00000000"
      ]
     },
     "metadata": {},
     "output_type": "display_data"
    },
    {
     "data": {
      "image/png": "[encoded data removed]",
      "text/plain": [
       "Plot with title \"\""
      ]
     },
     "metadata": {},
     "output_type": "display_data"
    }
   ],
   "source": [
    "cor_heart <- cor(data2[, 10:14])\n",
    "cor_heart\n",
    "\n",
    "corrplot(cor_heart, method = 'square', type='upper')"
   ]
  },
  {
   "cell_type": "code",
   "execution_count": null,
   "id": "6102147f",
   "metadata": {},
   "outputs": [],
   "source": []
  }
 ],
 "metadata": {
  "kernelspec": {
   "display_name": "R",
   "language": "R",
   "name": "ir"
  },
  "language_info": {
   "codemirror_mode": "r",
   "file_extension": ".r",
   "mimetype": "text/x-r-source",
   "name": "R",
   "pygments_lexer": "r",
   "version": "3.6.1"
  }
 },
 "nbformat": 4,
 "nbformat_minor": 5
}
